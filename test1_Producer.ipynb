{
 "cells": [
  {
   "cell_type": "code",
   "execution_count": 3,
   "metadata": {},
   "outputs": [
    {
     "name": "stdout",
     "output_type": "stream",
     "text": [
      " [x] Sent 'Hello World!'\n"
     ]
    }
   ],
   "source": [
    "#1 RabbitMQ를 통해 데이터 송수신\n",
    "import pika\n",
    "\n",
    "#RabbitMQ 서버에 연결\n",
    "#connection과 channel를 생성\n",
    "connection = pika.BlockingConnection(pika.ConnectionParameters(host='localhost'))\n",
    "channel = connection.channel()\n",
    "\n",
    "#queue_declare: channel를 통해 queue 선언(declare)\n",
    "channel.queue_declare(queue='hello')\n",
    "#메시지를 RabbitMQ 큐에 전송\n",
    "channel.basic_publish(exchange='', routing_key='hello', body='Hello World!')\n",
    "print(\" [x] Sent 'Hello World!'\")\n",
    "# 연결 종료\n",
    "connection.close()"
   ]
  }
 ],
 "metadata": {
  "kernelspec": {
   "display_name": "base",
   "language": "python",
   "name": "python3"
  },
  "language_info": {
   "codemirror_mode": {
    "name": "ipython",
    "version": 3
   },
   "file_extension": ".py",
   "mimetype": "text/x-python",
   "name": "python",
   "nbconvert_exporter": "python",
   "pygments_lexer": "ipython3",
   "version": "3.10.14"
  }
 },
 "nbformat": 4,
 "nbformat_minor": 2
}
