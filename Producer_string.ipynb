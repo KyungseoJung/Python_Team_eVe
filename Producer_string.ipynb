{
 "cells": [
  {
   "cell_type": "code",
   "execution_count": 7,
   "metadata": {},
   "outputs": [
    {
     "name": "stdout",
     "output_type": "stream",
     "text": [
      " [x] Sent 'Hello World!'\n"
     ]
    }
   ],
   "source": [
    "# //#1 맨 처음 기본 코드\n",
    "\n",
    "# import pika\n",
    "\n",
    "# #RabbitMQ 서버에 연결\n",
    "# #connection과 channel를 생성\n",
    "# connection = pika.BlockingConnection(pika.ConnectionParameters(host='localhost'))\n",
    "# channel = connection.channel()\n",
    "\n",
    "# #queue_declare: channel를 통해 queue 선언(declare)\n",
    "# channel.queue_declare(queue='hello')\n",
    "# #메시지를 RabbitMQ 큐에 전송\n",
    "# channel.basic_publish(exchange='', routing_key='hello', body='Hello World!')\n",
    "# print(\" [x] Sent 'Hello World!'\")\n",
    "# # 연결 종료\n",
    "# connection.close()"
   ]
  },
  {
   "cell_type": "code",
   "execution_count": 32,
   "metadata": {},
   "outputs": [
    {
     "name": "stdout",
     "output_type": "stream",
     "text": [
      " [x] Sent   Hello~~888\n"
     ]
    }
   ],
   "source": [
    "#//#1 변수 미리 지정, 주석 추가\n",
    "# 2 문자열 송수신 Producer - 성공 코드\n",
    "\n",
    "#1 RabbitMQ를 통해 데이터 송수신\n",
    "import pika\n",
    "\n",
    "#1 구조만 변경\n",
    "exchange_name = ''\n",
    "queue_name = 'hello'\n",
    "server_url = 'localhost'\n",
    "message = 'Hello~~888'\n",
    "\n",
    "\n",
    "#RabbitMQ 서버에 연결\n",
    "#connection과 channel를 생성\n",
    "connection = pika.BlockingConnection(pika.ConnectionParameters(host=server_url))\n",
    "channel = connection.channel()  # 연결 통로를 만들어주기\n",
    "\n",
    "#queue_declare: channel를 통해 queue 선언(declare)\n",
    "channel.queue_declare(queue='hello')\n",
    "# 메시지를 어디로 전송? -> RabbitMQ 큐에 전송\n",
    "# 가장 기본적인 것만을 전달하겠다.\n",
    "channel.basic_publish(\n",
    "    exchange=exchange_name, \n",
    "    routing_key=queue_name, # routing_key: 전달을 원하는 곳\n",
    "    body=message     # body: 전달하기 원하는 메시지\n",
    "    )\n",
    "\n",
    "print(\" [x] Sent  \", message)\n",
    "\n",
    "# 연결 종료\n",
    "connection.close()"
   ]
  }
 ],
 "metadata": {
  "kernelspec": {
   "display_name": "base",
   "language": "python",
   "name": "python3"
  },
  "language_info": {
   "codemirror_mode": {
    "name": "ipython",
    "version": 3
   },
   "file_extension": ".py",
   "mimetype": "text/x-python",
   "name": "python",
   "nbconvert_exporter": "python",
   "pygments_lexer": "ipython3",
   "version": "3.10.14"
  }
 },
 "nbformat": 4,
 "nbformat_minor": 2
}
