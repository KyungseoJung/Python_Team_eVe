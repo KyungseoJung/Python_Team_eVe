{
 "cells": [
  {
   "cell_type": "code",
   "execution_count": 2,
   "metadata": {},
   "outputs": [
    {
     "name": "stdout",
     "output_type": "stream",
     "text": [
      " [x] Sent   Latitude: 37.343662, Longitude: 127.231238\n",
      " [x] Sent   Latitude: 37.3452732, Longitude: 127.2334171\n",
      " [x] Sent   Latitude: 37.3468844, Longitude: 127.2355962\n",
      " [x] Sent   Latitude: 37.3484956, Longitude: 127.2377753\n",
      " [x] Sent   Latitude: 37.3501068, Longitude: 127.2399544\n",
      " [x] Sent   Latitude: 37.351718, Longitude: 127.2421335\n",
      " [x] Sent   Latitude: 37.3533292, Longitude: 127.2443126\n",
      " [x] Sent   Latitude: 37.3549404, Longitude: 127.2464917\n",
      " [x] Sent   Latitude: 37.3565516, Longitude: 127.2486708\n",
      " [x] Sent   Latitude: 37.3581628, Longitude: 127.2508499\n",
      " [x] Sent   Latitude: 37.359774, Longitude: 127.253029\n"
     ]
    }
   ],
   "source": [
    "# //#1 변수 미리 지정, 주석 추가\n",
    "# //#2 문자열 송수신 Producer - 성공 코드\n",
    "# //#7 위도, 경도 데이터 송신하기 \n",
    "# //#10 위도, 경도 리스트 데이터 송신하기 (1초에 1개씩)\n",
    "\n",
    "#1 RabbitMQ를 통해 데이터 송수신\n",
    "import pika\n",
    "import time     # //#10 n초마다 1개씩 RabbitMQ로 데이터 송신\n",
    "\n",
    "#1 구조만 변경\n",
    "exchange_name = ''     #7 데이터를 전송할 exchange의 이름을 설정\n",
    "queue_name = 'location_queue'       #7 queue 이름 설정 - 수신할 때 필요***\n",
    "server_url = 'localhost'\n",
    "\n",
    "# //#10 위도와 경도 데이터 리스트\n",
    "locations = [\n",
    "    (37.343662, 127.231238),\n",
    "    (37.3452732, 127.2334171),\n",
    "    (37.3468844, 127.2355962),\n",
    "    (37.3484956, 127.2377753),\n",
    "    (37.3501068, 127.2399544),\n",
    "    (37.351718, 127.2421335),\n",
    "    (37.3533292, 127.2443126),\n",
    "    (37.3549404, 127.2464917),\n",
    "    (37.3565516, 127.2486708),\n",
    "    (37.3581628, 127.2508499),\n",
    "    (37.359774, 127.253029)\n",
    "]\n",
    "\n",
    "\n",
    "#RabbitMQ 서버에 연결\n",
    "#connection과 channel를 생성\n",
    "connection = pika.BlockingConnection(pika.ConnectionParameters(host=server_url))\n",
    "channel = connection.channel()  # 연결 통로를 만들어주기\n",
    "\n",
    "#queue_declare: channel를 통해 queue 선언(declare)\n",
    "channel.queue_declare(queue='hello')\n",
    "\n",
    "# 메시지를 어디로 전송? -> RabbitMQ 큐에 전송\n",
    "\n",
    "for latitude, longitude in locations:\n",
    "    #7 위도와 경도 데이터를 문자열로 변환해서 메시지에 포함시키기\n",
    "    message = f'Latitude: {latitude}, Longitude: {longitude}'  \n",
    "    channel.basic_publish(\n",
    "        exchange=exchange_name, \n",
    "        routing_key=queue_name, # routing_key: 전달을 원하는 곳\n",
    "        body=message     # body: 전달하기 원하는 메시지\n",
    "        )\n",
    "    print(\" [x] Sent  \", message)\n",
    "    # //#10 각 위치 간에 1초의 간격을 둠\n",
    "    time.sleep(1)\n",
    "\n",
    "# 연결 종료\n",
    "connection.close()"
   ]
  }
 ],
 "metadata": {
  "kernelspec": {
   "display_name": "eve1",
   "language": "python",
   "name": "python3"
  },
  "language_info": {
   "codemirror_mode": {
    "name": "ipython",
    "version": 3
   },
   "file_extension": ".py",
   "mimetype": "text/x-python",
   "name": "python",
   "nbconvert_exporter": "python",
   "pygments_lexer": "ipython3",
   "version": "3.10.14"
  }
 },
 "nbformat": 4,
 "nbformat_minor": 2
}
