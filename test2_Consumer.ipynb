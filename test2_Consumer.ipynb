{
 "cells": [
  {
   "cell_type": "code",
   "execution_count": 1,
   "metadata": {},
   "outputs": [],
   "source": [
    "# from flask import Flask, render_template\n",
    "# import pika\n",
    "\n",
    "# app = Flask(__name__)\n",
    "\n",
    "# @app.route('/')\n",
    "# def index():\n",
    "#     try:\n",
    "#         # RabbitMQ 서버에 연결\n",
    "#         connection = pika.BlockingConnection(pika.ConnectionParameters('localhost'))\n",
    "#         channel = connection.channel()\n",
    "#         # 큐 선언\n",
    "#         channel.queue_declare(queue='hello')\n",
    "        \n",
    "#         # 메시지 소비\n",
    "#         method_frame, header_frame, body = channel.basic_get(queue='hello', auto_ack=True)\n",
    "#         if method_frame:\n",
    "#             message = body.decode('utf-8')\n",
    "#             print(\" [x] Received %r\" % message)\n",
    "#         else:\n",
    "#             message = \"No message available\"\n",
    "            \n",
    "#         # 연결 종료\n",
    "#         connection.close()\n",
    "        \n",
    "#         return render_template('index.html', message=message)\n",
    "#     except Exception as e:\n",
    "#         return \"Error receiving message from RabbitMQ: {}\".format(e)\n",
    "\n",
    "# if __name__ == '__main__':\n",
    "#     app.run(debug=True)\n"
   ]
  }
 ],
 "metadata": {
  "kernelspec": {
   "display_name": "eve1",
   "language": "python",
   "name": "python3"
  },
  "language_info": {
   "codemirror_mode": {
    "name": "ipython",
    "version": 3
   },
   "file_extension": ".py",
   "mimetype": "text/x-python",
   "name": "python",
   "nbconvert_exporter": "python",
   "pygments_lexer": "ipython3",
   "version": "3.10.14"
  }
 },
 "nbformat": 4,
 "nbformat_minor": 2
}
