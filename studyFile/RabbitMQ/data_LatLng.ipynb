{
 "cells": [
  {
   "cell_type": "code",
   "execution_count": null,
   "metadata": {},
   "outputs": [],
   "source": [
    "# start_latitude = 37.343662\n",
    "# start_longitude = 127.231238\n",
    "\n",
    "# end_latitude = 37.359774\n",
    "# end_longitude = 127.253029\n",
    "\n",
    "# # 이동할 간격 설정 (예: 0.001)\n",
    "# num = 10\n",
    "\n",
    "# interval_lat = (end_latitude-start_latitude)/num\n",
    "# interval_lng = (end_longitude-start_longitude)/num\n",
    "\n",
    "# # 이동할 위치들을 저장할 리스트\n",
    "# latitude_list = []\n",
    "# longitude_list = []\n",
    "\n",
    "# # 출발지부터 도착지까지 위도를 이동하면서 리스트에 추가\n",
    "# current_latitude = start_latitude\n",
    "# while current_latitude <= end_latitude:\n",
    "#     latitude_list.append(current_latitude)\n",
    "#     current_latitude += interval_lat\n",
    "\n",
    "# # 출발지부터 도착지까지 경도를 이동하면서 리스트에 추가\n",
    "# current_longitude = start_longitude\n",
    "# while current_longitude <= end_longitude:\n",
    "#     longitude_list.append(current_longitude)\n",
    "#     current_longitude += interval_lng\n",
    "\n",
    "# # 위도와 경도 리스트 출력\n",
    "# print(\"위도 리스트:\", latitude_list)\n",
    "# print(\"경도 리스트:\", longitude_list)\n"
   ]
  },
  {
   "cell_type": "code",
   "execution_count": 5,
   "metadata": {},
   "outputs": [
    {
     "name": "stdout",
     "output_type": "stream",
     "text": [
      "[{37.339203, 127.274363}, {37.339183299999995, 127.2740831}, {37.33916359999999, 127.2738032}, {37.33914389999999, 127.27352330000001}, {37.339124199999986, 127.27324340000001}, {37.33910449999998, 127.27296350000002}, {37.33908479999998, 127.27268360000002}, {37.33906509999998, 127.27240370000003}, {37.339045399999975, 127.27212380000003}, {37.33902569999997, 127.27184390000004}, {37.33900599999997, 127.27156400000004}]\n"
     ]
    }
   ],
   "source": [
    "\n",
    "# start_latitude = 37.339203\n",
    "# start_longitude = 127.274363\n",
    "\n",
    "# end_latitude = 37.339006\n",
    "# end_longitude = 127.271564\n",
    "\n",
    "# # 이동할 간격 설정 (예: 0.001)\n",
    "# num = 10\n",
    "\n",
    "# interval_lat = (end_latitude - start_latitude) / num\n",
    "# interval_lng = (end_longitude - start_longitude) / num\n",
    "\n",
    "# # 이동할 위치들을 저장할 딕셔너리\n",
    "# route = []\n",
    "\n",
    "# # 출발지부터 도착지까지 위도와 경도를 이동하면서 딕셔너리에 추가\n",
    "# current_latitude = start_latitude\n",
    "# current_longitude = start_longitude\n",
    "# for _ in range(num + 1):\n",
    "#     route.append({current_latitude,current_longitude})\n",
    "#     current_latitude += interval_lat\n",
    "#     current_longitude += interval_lng\n",
    "\n",
    "# # 결과 출력\n",
    "# # 딕셔너리들을 리스트에 담음\n",
    "\n",
    "# # for point in route:\n",
    "# #     print(point)    # 각각에 딕셔너리를 반복하여 출력\n",
    "\n",
    "# print(route)"
   ]
  },
  {
   "cell_type": "code",
   "execution_count": 1,
   "metadata": {},
   "outputs": [
    {
     "name": "stdout",
     "output_type": "stream",
     "text": [
      "[(37.337179, 127.245669), (37.3372644, 127.246081), (37.337349800000005, 127.246493), (37.33743520000001, 127.246905), (37.33752060000001, 127.247317), (37.337606000000015, 127.24772899999999)]\n"
     ]
    }
   ],
   "source": [
    "# 주어진 출발지와 도착지의 위도와 경도로부터 주어진 간격만큼 이동하는 위치들을 생성하는 함수\n",
    "def generate_route(start_latitude, start_longitude, end_latitude, end_longitude, num):\n",
    "    # 이동 간격 계산\n",
    "    interval_lat = (end_latitude - start_latitude) / num\n",
    "    interval_lng = (end_longitude - start_longitude) / num\n",
    "\n",
    "    # 이동할 위치들을 저장할 리스트\n",
    "    route = []\n",
    "\n",
    "    # 출발지부터 도착지까지 위도와 경도를 이동하면서 리스트에 추가\n",
    "    current_latitude = start_latitude\n",
    "    current_longitude = start_longitude\n",
    "    for _ in range(num + 1):\n",
    "        route.append((current_latitude, current_longitude))\n",
    "        current_latitude += interval_lat\n",
    "        current_longitude += interval_lng\n",
    "\n",
    "    return route\n",
    "\n",
    "# 주어진 출발지와 도착지, 간격을 사용하여 위치 리스트 생성\n",
    "start_latitude = 37.337179\n",
    "start_longitude = 127.245669\n",
    "end_latitude = 37.337606\n",
    "end_longitude = 127.247729\n",
    "num = 5\n",
    "\n",
    "# 위치 리스트 생성\n",
    "locations = generate_route(start_latitude, start_longitude, end_latitude, end_longitude, num)\n",
    "\n",
    "# 결과 출력\n",
    "print(locations)\n"
   ]
  },
  {
   "cell_type": "code",
   "execution_count": 2,
   "metadata": {},
   "outputs": [
    {
     "name": "stdout",
     "output_type": "stream",
     "text": [
      "[(37.337606, 127.247729), (37.337582, 127.2481152), (37.337557999999994, 127.2485014), (37.33753399999999, 127.24888759999999), (37.33750999999999, 127.24927379999998), (37.337485999999984, 127.24965999999998)]\n"
     ]
    }
   ],
   "source": [
    "# 주어진 출발지와 도착지의 위도와 경도로부터 주어진 간격만큼 이동하는 위치들을 생성하는 함수\n",
    "def generate_route(start_latitude, start_longitude, end_latitude, end_longitude, num):\n",
    "    # 이동 간격 계산\n",
    "    interval_lat = (end_latitude - start_latitude) / num\n",
    "    interval_lng = (end_longitude - start_longitude) / num\n",
    "\n",
    "    # 이동할 위치들을 저장할 리스트\n",
    "    route = []\n",
    "\n",
    "    # 출발지부터 도착지까지 위도와 경도를 이동하면서 리스트에 추가\n",
    "    current_latitude = start_latitude\n",
    "    current_longitude = start_longitude\n",
    "    for _ in range(num + 1):\n",
    "        route.append((current_latitude, current_longitude))\n",
    "        current_latitude += interval_lat\n",
    "        current_longitude += interval_lng\n",
    "\n",
    "    return route\n",
    "\n",
    "# 주어진 출발지와 도착지, 간격을 사용하여 위치 리스트 생성\n",
    "start_latitude = 37.337606\n",
    "start_longitude = 127.247729\n",
    "end_latitude = 37.337486\n",
    "end_longitude = 127.249660\n",
    "num = 5\n",
    "\n",
    "# 위치 리스트 생성\n",
    "locations = generate_route(start_latitude, start_longitude, end_latitude, end_longitude, num)\n",
    "\n",
    "# 결과 출력\n",
    "print(locations)"
   ]
  },
  {
   "cell_type": "code",
   "execution_count": 3,
   "metadata": {},
   "outputs": [
    {
     "name": "stdout",
     "output_type": "stream",
     "text": [
      "[(37.337486, 127.24966), (37.337298499999996, 127.2502341), (37.33711099999999, 127.2508082), (37.33692349999999, 127.25138229999999), (37.33673599999999, 127.25195639999998), (37.336548499999985, 127.25253049999998), (37.33636099999998, 127.25310459999997), (37.33617349999998, 127.25367869999997), (37.33598599999998, 127.25425279999996), (37.335798499999974, 127.25482689999996), (37.33561099999997, 127.25540099999995)]\n"
     ]
    }
   ],
   "source": [
    "# 주어진 출발지와 도착지의 위도와 경도로부터 주어진 간격만큼 이동하는 위치들을 생성하는 함수\n",
    "def generate_route(start_latitude, start_longitude, end_latitude, end_longitude, num):\n",
    "    # 이동 간격 계산\n",
    "    interval_lat = (end_latitude - start_latitude) / num\n",
    "    interval_lng = (end_longitude - start_longitude) / num\n",
    "\n",
    "    # 이동할 위치들을 저장할 리스트\n",
    "    route = []\n",
    "\n",
    "    # 출발지부터 도착지까지 위도와 경도를 이동하면서 리스트에 추가\n",
    "    current_latitude = start_latitude\n",
    "    current_longitude = start_longitude\n",
    "    for _ in range(num + 1):\n",
    "        route.append((current_latitude, current_longitude))\n",
    "        current_latitude += interval_lat\n",
    "        current_longitude += interval_lng\n",
    "\n",
    "    return route\n",
    "\n",
    "# 주어진 출발지와 도착지, 간격을 사용하여 위치 리스트 생성\n",
    "start_latitude = 37.337486\n",
    "start_longitude = 127.249660\n",
    "end_latitude = 37.335611\n",
    "end_longitude = 127.255401\n",
    "num = 10\n",
    "\n",
    "# 위치 리스트 생성\n",
    "locations = generate_route(start_latitude, start_longitude, end_latitude, end_longitude, num)\n",
    "\n",
    "# 결과 출력\n",
    "print(locations)"
   ]
  },
  {
   "cell_type": "code",
   "execution_count": 5,
   "metadata": {},
   "outputs": [
    {
     "name": "stdout",
     "output_type": "stream",
     "text": [
      "[(37.335611, 127.255401), (37.3355849, 127.2558513), (37.3355588, 127.2563016), (37.3355327, 127.2567519), (37.3355066, 127.2572022), (37.3354805, 127.25765249999999), (37.3354544, 127.25810279999999), (37.335428300000004, 127.25855309999999), (37.335402200000004, 127.25900339999998), (37.335376100000005, 127.25945369999998), (37.335350000000005, 127.25990399999998)]\n"
     ]
    }
   ],
   "source": [
    "# 주어진 출발지와 도착지의 위도와 경도로부터 주어진 간격만큼 이동하는 위치들을 생성하는 함수\n",
    "def generate_route(start_latitude, start_longitude, end_latitude, end_longitude, num):\n",
    "    # 이동 간격 계산\n",
    "    interval_lat = (end_latitude - start_latitude) / num\n",
    "    interval_lng = (end_longitude - start_longitude) / num\n",
    "\n",
    "    # 이동할 위치들을 저장할 리스트\n",
    "    route = []\n",
    "\n",
    "    # 출발지부터 도착지까지 위도와 경도를 이동하면서 리스트에 추가\n",
    "    current_latitude = start_latitude\n",
    "    current_longitude = start_longitude\n",
    "    for _ in range(num + 1):\n",
    "        route.append((current_latitude, current_longitude))\n",
    "        current_latitude += interval_lat\n",
    "        current_longitude += interval_lng\n",
    "\n",
    "    return route\n",
    "\n",
    "# 주어진 출발지와 도착지, 간격을 사용하여 위치 리스트 생성\n",
    "start_latitude = 37.335611\n",
    "start_longitude = 127.255401\n",
    "end_latitude = 37.335350\n",
    "end_longitude = 127.259904\n",
    "num = 10\n",
    "\n",
    "# 위치 리스트 생성\n",
    "locations = generate_route(start_latitude, start_longitude, end_latitude, end_longitude, num)\n",
    "\n",
    "# 결과 출력\n",
    "print(locations)"
   ]
  },
  {
   "cell_type": "code",
   "execution_count": 10,
   "metadata": {},
   "outputs": [
    {
     "name": "stdout",
     "output_type": "stream",
     "text": [
      "[(37.335636, 127.260043), (37.3357367, 127.2592834), (37.335837399999996, 127.2585238), (37.33593809999999, 127.25776420000001), (37.33603879999999, 127.25700460000002), (37.33613949999999, 127.25624500000002), (37.336240199999985, 127.25548540000003), (37.33634089999998, 127.25472580000003), (37.33644159999998, 127.25396620000004), (37.33654229999998, 127.25320660000004), (37.336642999999974, 127.25244700000005)]\n"
     ]
    }
   ],
   "source": [
    "# 주어진 출발지와 도착지의 위도와 경도로부터 주어진 간격만큼 이동하는 위치들을 생성하는 함수\n",
    "def generate_route(start_latitude, start_longitude, end_latitude, end_longitude, num):\n",
    "    # 이동 간격 계산\n",
    "    interval_lat = (end_latitude - start_latitude) / num\n",
    "    interval_lng = (end_longitude - start_longitude) / num\n",
    "\n",
    "    # 이동할 위치들을 저장할 리스트\n",
    "    route = []\n",
    "\n",
    "    # 출발지부터 도착지까지 위도와 경도를 이동하면서 리스트에 추가\n",
    "    current_latitude = start_latitude\n",
    "    current_longitude = start_longitude\n",
    "    for _ in range(num + 1):\n",
    "        route.append((current_latitude, current_longitude))\n",
    "        current_latitude += interval_lat\n",
    "        current_longitude += interval_lng\n",
    "\n",
    "    return route\n",
    "\n",
    "# 주어진 출발지와 도착지, 간격을 사용하여 위치 리스트 생성\n",
    "start_latitude = 37.335636\n",
    "start_longitude = 127.260043\n",
    "end_latitude = 37.336643\n",
    "end_longitude = 127.252447\n",
    "num = 10\n",
    "\n",
    "# 위치 리스트 생성\n",
    "locations = generate_route(start_latitude, start_longitude, end_latitude, end_longitude, num)\n",
    "\n",
    "# 결과 출력\n",
    "print(locations)"
   ]
  },
  {
   "cell_type": "code",
   "execution_count": null,
   "metadata": {},
   "outputs": [],
   "source": []
  },
  {
   "cell_type": "code",
   "execution_count": null,
   "metadata": {},
   "outputs": [],
   "source": []
  },
  {
   "cell_type": "code",
   "execution_count": null,
   "metadata": {},
   "outputs": [],
   "source": []
  }
 ],
 "metadata": {
  "kernelspec": {
   "display_name": "eve1",
   "language": "python",
   "name": "python3"
  },
  "language_info": {
   "codemirror_mode": {
    "name": "ipython",
    "version": 3
   },
   "file_extension": ".py",
   "mimetype": "text/x-python",
   "name": "python",
   "nbconvert_exporter": "python",
   "pygments_lexer": "ipython3",
   "version": "3.10.14"
  }
 },
 "nbformat": 4,
 "nbformat_minor": 2
}
