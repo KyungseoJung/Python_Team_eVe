{
 "cells": [
  {
   "cell_type": "code",
   "execution_count": 14,
   "metadata": {},
   "outputs": [
    {
     "name": "stdout",
     "output_type": "stream",
     "text": [
      " [x] Sent   Latitude: 37.33, Longitude: 127.24\n"
     ]
    }
   ],
   "source": [
    "# //#1 변수 미리 지정, 주석 추가\n",
    "# //#2 문자열 송수신 Producer - 성공 코드\n",
    "# //#7 위도, 경도 데이터 송신하기 \n",
    "\n",
    "#1 RabbitMQ를 통해 데이터 송수신\n",
    "import pika\n",
    "\n",
    "#1 구조만 변경\n",
    "exchange_name = ''     #7 데이터를 전송할 exchange의 이름을 설정\n",
    "queue_name = 'location_queue'       #7 queue 이름 설정 - 수신할 때 필요***\n",
    "server_url = 'localhost'\n",
    "latitude = 37.33  # 위도 데이터\n",
    "longitude = 127.24  # 경도 데이터\n",
    "\n",
    "\n",
    "#RabbitMQ 서버에 연결\n",
    "#connection과 channel를 생성\n",
    "connection = pika.BlockingConnection(pika.ConnectionParameters(host=server_url))\n",
    "channel = connection.channel()  # 연결 통로를 만들어주기\n",
    "\n",
    "#queue_declare: channel를 통해 queue 선언(declare)\n",
    "channel.queue_declare(queue='hello')\n",
    "# 메시지를 어디로 전송? -> RabbitMQ 큐에 전송\n",
    "# 가장 기본적인 것만을 전달하겠다.\n",
    "message = f'Latitude: {latitude}, Longitude: {longitude}'  #7 위도와 경도 데이터를 문자열로 변환해서 메시지에 포함시키기\n",
    "\n",
    "# message = 'Hello~~A'\n",
    "\n",
    "channel.basic_publish(\n",
    "    exchange=exchange_name, \n",
    "    routing_key=queue_name, # routing_key: 전달을 원하는 곳\n",
    "    body=message     # body: 전달하기 원하는 메시지\n",
    "    )\n",
    "\n",
    "print(\" [x] Sent  \", message)\n",
    "\n",
    "# 연결 종료\n",
    "connection.close()"
   ]
  }
 ],
 "metadata": {
  "kernelspec": {
   "display_name": "base",
   "language": "python",
   "name": "python3"
  },
  "language_info": {
   "codemirror_mode": {
    "name": "ipython",
    "version": 3
   },
   "file_extension": ".py",
   "mimetype": "text/x-python",
   "name": "python",
   "nbconvert_exporter": "python",
   "pygments_lexer": "ipython3",
   "version": "3.10.14"
  }
 },
 "nbformat": 4,
 "nbformat_minor": 2
}
